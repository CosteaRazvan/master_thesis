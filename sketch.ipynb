{
 "cells": [
  {
   "cell_type": "code",
   "execution_count": 1,
   "metadata": {},
   "outputs": [],
   "source": [
    "import nibabel as nib\n",
    "import os\n",
    "import matplotlib.pyplot as plt\n",
    "import numpy as np\n",
    "import cv2\n",
    "from einops.layers.torch import Rearrange\n",
    "import torch\n",
    "import torchvision"
   ]
  },
  {
   "cell_type": "code",
   "execution_count": 4,
   "metadata": {},
   "outputs": [],
   "source": [
    "def normalize_frame(frame):\n",
    "    \"\"\"Normalize the frame data to 0-255.\"\"\"\n",
    "    frame = cv2.normalize(frame, None, 0, 255, cv2.NORM_MINMAX)\n",
    "    return frame.astype(np.uint8)\n",
    "\n",
    "def write_frames_to_video(frames, output_path, fps=30, frame_size=(320, 240)):\n",
    "    fourcc = cv2.VideoWriter_fourcc(*'mp4v')\n",
    "    \n",
    "    # Create the VideoWriter object\n",
    "    out = cv2.VideoWriter(output_path, fourcc, fps, frame_size)\n",
    "\n",
    "    # Loop over each frame and write it to the video\n",
    "    for frame in frames:\n",
    "        # Normalize the frame to ensure it displays correctly\n",
    "        frame = normalize_frame(frame)\n",
    "        \n",
    "        # Convert grayscale to BGR for video\n",
    "        frame = cv2.cvtColor(frame, cv2.COLOR_GRAY2BGR)\n",
    "        \n",
    "        # Pad frame to maintain aspect ratio instead of resizing\n",
    "        h, w = frame.shape[:2]\n",
    "        aspect_ratio = frame_size[0] / frame_size[1]\n",
    "        if w / h > aspect_ratio:  # Wide image\n",
    "            new_w = frame_size[0]\n",
    "            new_h = int(new_w * h / w)\n",
    "        else:  # Tall image\n",
    "            new_h = frame_size[1]\n",
    "            new_w = int(new_h * w / h)\n",
    "        \n",
    "        # Resize while keeping aspect ratio\n",
    "        resized_frame = cv2.resize(frame, (new_w, new_h))\n",
    "        \n",
    "        # Pad the image to match the target frame size\n",
    "        delta_w = frame_size[0] - new_w\n",
    "        delta_h = frame_size[1] - new_h\n",
    "        top, bottom = delta_h // 2, delta_h - (delta_h // 2)\n",
    "        left, right = delta_w // 2, delta_w - (delta_w // 2)\n",
    "        padded_frame = cv2.copyMakeBorder(resized_frame, top, bottom, left, right, cv2.BORDER_CONSTANT)\n",
    "\n",
    "        # Write the padded frame to the video\n",
    "        out.write(padded_frame)\n",
    "    \n",
    "    # Release the VideoWriter\n",
    "    out.release()\n",
    "    print(f'Video saved to {output_path}')"
   ]
  },
  {
   "cell_type": "code",
   "execution_count": 6,
   "metadata": {},
   "outputs": [
    {
     "name": "stdout",
     "output_type": "stream",
     "text": [
      "(64, 64, 48, 140)\n"
     ]
    }
   ],
   "source": [
    "path = r\".\\data\\I304790_Resting_State_fMRI_20120515163828_501.nii\"\n",
    "\n",
    "# Load the image using nibabel\n",
    "img = nib.load(path)\n",
    "data = img.get_fdata()\n",
    "print(data.shape)\n",
    "\n",
    "# Define the number of rows and columns for the grid (adjust as needed)\n",
    "time_stamps = data.shape[3]\n",
    "\n",
    "num_cols = int(np.ceil(np.sqrt(time_stamps)))\n",
    "num_rows = int(np.ceil(time_stamps / num_cols))\n",
    "\n",
    "grid_img = np.zeros([768, 768])\n",
    "offset = 0\n",
    "\n",
    "for slice_index_z in range(data.shape[2]): # for temp_index in range(time_stamps):\n",
    "    # Create a figure for the grid\n",
    "    # fig, axes = plt.subplots(num_rows, num_cols, figsize=(12, 12))\n",
    "    frames = []\n",
    "\n",
    "    for temp_index in range(time_stamps):\n",
    "        frame = data[:, :, slice_index_z, temp_index]\n",
    "        frame = normalize_frame(frame)\n",
    "        # frame = cv2.cvtColor(frame, cv2.COLOR_GRAY2BGR)\n",
    "\n",
    "        row = temp_index // num_cols\n",
    "        col = temp_index % num_cols\n",
    "\n",
    "        # Compute the position in the grid image\n",
    "        row_start = row * 64\n",
    "        row_end = row_start + 64\n",
    "        col_start = col * 64\n",
    "        col_end = col_start + 64\n",
    "\n",
    "        # Place the frame in the appropriate position\n",
    "        grid_img[row_start:row_end, col_start:col_end] = frame\n",
    "        \n",
    "        frames.append(frame)\n",
    "\n",
    "    cv2.imwrite(f\"movies/grid_img_{slice_index_z}.jpg\", grid_img)\n"
   ]
  },
  {
   "cell_type": "code",
   "execution_count": 33,
   "metadata": {},
   "outputs": [
    {
     "name": "stdout",
     "output_type": "stream",
     "text": [
      "torch.Size([1, 64, 64, 48, 140])\n",
      "torch.Size([1, 48, 64, 64, 140])\n"
     ]
    },
    {
     "data": {
      "image/png": "[encoded data removed]",
      "text/plain": [
       "<Figure size 640x480 with 1 Axes>"
      ]
     },
     "metadata": {},
     "output_type": "display_data"
    }
   ],
   "source": [
    "path = r\".\\data\\I304790_Resting_State_fMRI_20120515163828_501.nii\"\n",
    "\n",
    "# Load the image using nibabel\n",
    "img = nib.load(path)\n",
    "data = img.get_fdata()\n",
    "data = np.expand_dims(data, axis=0)\n",
    "data = torch.tensor(data)\n",
    "print(data.shape)\n",
    "\n",
    "funct = Rearrange(\"b h w c t -> b c h w t\")\n",
    "data = funct(data)\n",
    "print(data.shape)\n",
    "\n",
    "for batch in data:\n",
    "    brain_slice = batch[25]\n",
    "    brain_slice_t = brain_slice[:, :, 10]\n",
    "    \n",
    "    brain_slice_t = brain_slice_t.numpy()\n",
    "    brain_slice_t = cv2.resize(brain_slice_t, [16, 16])\n",
    "    plt.imshow(brain_slice_t)"
   ]
  }
 ],
 "metadata": {
  "kernelspec": {
   "display_name": "Python 3",
   "language": "python",
   "name": "python3"
  },
  "language_info": {
   "codemirror_mode": {
    "name": "ipython",
    "version": 3
   },
   "file_extension": ".py",
   "mimetype": "text/x-python",
   "name": "python",
   "nbconvert_exporter": "python",
   "pygments_lexer": "ipython3",
   "version": "3.12.4"
  }
 },
 "nbformat": 4,
 "nbformat_minor": 2
}
