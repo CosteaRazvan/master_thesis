{
 "cells": [
  {
   "cell_type": "code",
   "execution_count": 2,
   "metadata": {},
   "outputs": [],
   "source": [
    "import nibabel as nib\n",
    "import os\n",
    "import matplotlib.pyplot as plt\n",
    "import numpy as np\n",
    "import cv2\n",
    "from einops.layers.torch import Rearrange\n",
    "import torch\n",
    "import torchvision\n",
    "import scipy"
   ]
  },
  {
   "cell_type": "code",
   "execution_count": 43,
   "metadata": {},
   "outputs": [
    {
     "name": "stdout",
     "output_type": "stream",
     "text": [
      "(88, 88, 64, 100)\n",
      "(88, 88, 64, 100)\n",
      "(88, 88, 64, 100)\n",
      "(88, 88, 64, 40)\n",
      "(88, 88, 64, 140)\n",
      "(64, 64, 48, 140)\n",
      "All videos saved successfully.\n"
     ]
    }
   ],
   "source": [
    "import copy\n",
    "\n",
    "\n",
    "def normalize_frame(frame):\n",
    "    \"\"\"Normalize the frame data to 0-255.\"\"\"\n",
    "    frame = cv2.normalize(frame, None, 0, 255, cv2.NORM_MINMAX)\n",
    "    return frame.astype(np.uint8)\n",
    "\n",
    "# Load the image\n",
    "path = r\"C:\\Users\\razva\\Master1\\Thesis\\Data\\ADNI\\002_S_4213\\Axial_MB_rsfMRI__Eyes_Open_\\2019-10-03_10_19_44.0\\I1236684_nii\\I1236684_Axial_MB_rsfMRI_(Eyes_Open)_20191003101944_11.nii.gz\"\n",
    "img = nib.load(path)\n",
    "data = img.get_fdata()[:, :, :, :100]\n",
    "# data = np.zeros(shape=[64, 64, 48, 105])\n",
    "print(data.shape)\n",
    "\n",
    "if len(data.shape) < 4:\n",
    "    data = np.expand_dims(data, axis=-1)\n",
    "\n",
    "print(data.shape)\n",
    "\n",
    "TARGET_SPACE_DIM = [64, 64, 48]\n",
    "zoom_factor = (TARGET_SPACE_DIM[0] / data.shape[0], TARGET_SPACE_DIM[1] / data.shape[1], TARGET_SPACE_DIM[2] / data.shape[2], 1)\n",
    "\n",
    "TARGET_TIME_DIM = 140\n",
    "\n",
    "print(data.shape)\n",
    "\n",
    "crt_space_dim = list(data.shape[:3])\n",
    "crt_time_dim = data.shape[-1]\n",
    "\n",
    "if crt_time_dim >= TARGET_TIME_DIM:\n",
    "    data = data[:, :, :, :TARGET_TIME_DIM]\n",
    "else:\n",
    "    padded_data = np.zeros(shape=(crt_space_dim + [TARGET_TIME_DIM - crt_time_dim]))\n",
    "    print(padded_data.shape)\n",
    "    data = np.concatenate([data, padded_data], axis=3)\n",
    "\n",
    "print(data.shape)\n",
    "    \n",
    "data = scipy.ndimage.zoom(data, zoom_factor)\n",
    "\n",
    "print(data.shape)\n",
    "\n",
    "# Extract shape dynamically\n",
    "x_dim, y_dim, z_dim, time_stamps = data.shape\n",
    "\n",
    "# Ensure frame size is even for OpenCV compatibility\n",
    "frame_size = 256\n",
    "frame_size = frame_size if frame_size % 2 == 0 else frame_size - 1  \n",
    "\n",
    "num_cols = int(np.ceil(np.sqrt(time_stamps)))\n",
    "num_rows = int(np.ceil(time_stamps / num_cols))\n",
    "\n",
    "dest_folder = \"movies\"\n",
    "os.makedirs(dest_folder, exist_ok=True)\n",
    "\n",
    "fourcc = cv2.VideoWriter_fourcc(*'mp4v')\n",
    "\n",
    "for slice_index in range(x_dim):\n",
    "    video_path = os.path.join(dest_folder, f\"slice_{slice_index}.mp4\")\n",
    "    out = cv2.VideoWriter(video_path, fourcc, 10, (frame_size, frame_size), isColor=True)\n",
    "\n",
    "    for temp_index in range(time_stamps):\n",
    "        frame = data[slice_index, :, :, temp_index]\n",
    "        frame = normalize_frame(frame)\n",
    "\n",
    "        rot_frame = np.rot90(frame)\n",
    "        resized_frame = cv2.resize(rot_frame, (frame_size, frame_size))\n",
    "        \n",
    "        # Convert grayscale to BGR explicitly\n",
    "        color_frame = cv2.cvtColor(resized_frame, cv2.COLOR_GRAY2BGR)\n",
    "        \n",
    "        out.write(color_frame)  # Ensure frames are written\n",
    "\n",
    "    out.release()\n",
    "\n",
    "print(\"All videos saved successfully.\")"
   ]
  },
  {
   "cell_type": "code",
   "execution_count": 44,
   "metadata": {},
   "outputs": [
    {
     "data": {
      "text/plain": [
       "'\\\\002_S_4213\\\\Axial_MB_rsfMRI__Eyes_Open_\\\\2019-10-03_10_19_44.0\\\\I1236684_nii'"
      ]
     },
     "execution_count": 44,
     "metadata": {},
     "output_type": "execute_result"
    }
   ],
   "source": [
    "root = r\"C:\\Users\\razva\\Master1\\Thesis\\Data\\ADNI\"\n",
    "str = r\"C:\\Users\\razva\\Master1\\Thesis\\Data\\ADNI\\002_S_4213\\Axial_MB_rsfMRI__Eyes_Open_\\2019-10-03_10_19_44.0\\I1236684_nii\"\n",
    "str.replace(root, \"\")"
   ]
  }
 ],
 "metadata": {
  "kernelspec": {
   "display_name": "Python 3",
   "language": "python",
   "name": "python3"
  },
  "language_info": {
   "codemirror_mode": {
    "name": "ipython",
    "version": 3
   },
   "file_extension": ".py",
   "mimetype": "text/x-python",
   "name": "python",
   "nbconvert_exporter": "python",
   "pygments_lexer": "ipython3",
   "version": "3.12.4"
  }
 },
 "nbformat": 4,
 "nbformat_minor": 2
}
